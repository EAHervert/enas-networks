import pandas as pd
import plotly.graph_objects as go
import plotly.express as px


file = 'data/DIV2K_GSN_01__Statistics.csv'

data = pd.read_csv(file)


data


data_0000 = data[data['Sample'] == '[xxxx]'][['SSIM_Val', 'PSNR_Val', 'SSIM_Test', 'PSNR_Test', 'Time']]
data_0001 = data[data['Sample'] == '[0001]'][['SSIM_Val', 'PSNR_Val', 'SSIM_Test', 'PSNR_Test', 'Time']]
data_0002 = data[data['Sample'] == '[0002]'][['SSIM_Val', 'PSNR_Val', 'SSIM_Test', 'PSNR_Test', 'Time']]
data_0004 = data[data['Sample'] == '[0004]'][['SSIM_Val', 'PSNR_Val', 'SSIM_Test', 'PSNR_Test', 'Time']]
data_0008 = data[data['Sample'] == '[0008]'][['SSIM_Val', 'PSNR_Val', 'SSIM_Test', 'PSNR_Test', 'Time']]
data_0016 = data[data['Sample'] == '[0016]'][['SSIM_Val', 'PSNR_Val', 'SSIM_Test', 'PSNR_Test', 'Time']]
data_0032 = data[data['Sample'] == '[0032]'][['SSIM_Val', 'PSNR_Val', 'SSIM_Test', 'PSNR_Test', 'Time']]
data_0064 = data[data['Sample'] == '[0064]'][['SSIM_Val', 'PSNR_Val', 'SSIM_Test', 'PSNR_Test', 'Time']]
data_0128 = data[data['Sample'] == '[0128]'][['SSIM_Val', 'PSNR_Val', 'SSIM_Test', 'PSNR_Test', 'Time']]
data_0256 = data[data['Sample'] == '[0256]'][['SSIM_Val', 'PSNR_Val', 'SSIM_Test', 'PSNR_Test', 'Time']]
data_FULL = data[data['Sample'] == '[FULL]'][['SSIM_Val', 'PSNR_Val', 'SSIM_Test', 'PSNR_Test', 'Time']]

data_0004.mean()


data_average = [data_0000.mean(), data_0001.mean(), data_0002.mean(), data_0004.mean(), data_0008.mean(), data_0016.mean(), 
                data_0032.mean(), data_0064.mean(), data_0128.mean(), data_0256.mean(), data_FULL.mean()]

data_average = pd.DataFrame(data_average)
data_average['Tag'] = ['BASE', '0001', '0002', '0004', '0008', '0016', '0032', '0064', '0128', '0256', 'FULL']

data_average


data_testing_01_SSIM = data_average['SSIM_Test'].to_list()

fig = go.Figure(data=go.Scatter(y=data_testing_01_SSIM[1:-1], name="Testing"))

fig.add_hline(y=data_testing_01_SSIM[0], line_dash="dash", line_color='red', annotation_text="Baseline", 
              annotation_position="top right", annotation_font_color="red")
fig.add_hline(y=data_testing_01_SSIM[-1], line_dash="dash", line_color='green', annotation_text="Target", 
              annotation_position="top right", annotation_font_color="green")
fig.add_hline(y=.95 * data_testing_01_SSIM[-1], line_dash="dash", line_color='green', annotation_text="95% Target", 
              annotation_position="top right", annotation_font_color="green")
fig.update_yaxes(range = [0.3,1])

fig.update_layout(
    title='Gaussian 0.01 SSIM Testing',
    yaxis_title='SSIM',
    xaxis_title='log2 Crops',
    width=800,
    height=500,
)
fig.show()


data_testing_01_PSNR = data_average['PSNR_Test'].to_list()

fig = go.Figure(data=go.Scatter(y=data_testing_01_PSNR[1:-1], name="Testing"))

fig.add_hline(y=data_testing_01_PSNR[0], line_dash="dash", line_color='red', annotation_text="Baseline", 
              annotation_position="top right", annotation_font_color="red")
fig.add_hline(y=data_testing_01_PSNR[-1], line_dash="dash", line_color='green', annotation_text="Target", 
              annotation_position="top right", annotation_font_color="green")
fig.add_hline(y=.95 * data_testing_01_PSNR[-1], line_dash="dash", line_color='green', annotation_text="95% Target", 
              annotation_position="top right", annotation_font_color="green")
fig.update_yaxes(range = [20,35])

fig.update_layout(
    title='Gaussian 0.01 PSNR Testing',
    yaxis_title='PSNR',
    xaxis_title='log2 Crops',
    width=800,
    height=500,
)
fig.show()


fig = px.scatter(data_average, x="Time", y="SSIM_Test", text='Tag', log_x=True, size_max=60)
fig.update_traces(textposition='top center')
fig.update_yaxes(range = [0.5,1])

fig.update_layout(
    height=600,
    title_text='Gaussian 0.01 Testing SSIM vs Time',
    xaxis_title="Log Time (Seconds)",
    yaxis_title="SSIM"
)

fig.show()


fig = px.scatter(data_average, x="Time", y="PSNR_Test", text='Tag', log_x=True, size_max=60)
fig.update_traces(textposition='top center')
fig.update_yaxes(range = [24,34])

fig.update_layout(
    height=600,
    title_text='Gaussian 0.01 Testing PSNR vs Time',
    xaxis_title="Log Time (Seconds)",
    yaxis_title="PSNR"
)

fig.show()



