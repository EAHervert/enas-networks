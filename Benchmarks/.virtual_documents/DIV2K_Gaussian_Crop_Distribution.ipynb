import plotly.graph_objects as go
import plotly.express as px
import numpy as np
import pandas as pd


data = pd.read_csv('data/DHDN_GSN_CROP_DISTRIBUTION_DIV2K.csv')
data


data_validation = data[data['DATASET'] == 'Validation']
data_testing = data[data['DATASET'] == 'Testing']

data_validation


data_testing


data_validation_01 = data_validation[data_validation['Level'] == 0.01]
data_validation_01_PSNR_Baseline = data_validation_01[0:1]['Denoised_PSNR'].to_numpy()[0]
data_validation_01_SSIM_Baseline = data_validation_01[0:1]['Denoised_SSIM'].to_numpy()[0]
data_validation_01_PSNR = data_validation_01[1:-1]['Denoised_PSNR'].to_numpy()
data_validation_01_SSIM = data_validation_01[1:-1]['Denoised_SSIM'].to_numpy()
data_validation_01_PSNR_Target = data_validation_01[-1:]['Denoised_PSNR'].to_numpy()[0]
data_validation_01_SSIM_Target = data_validation_01[-1:]['Denoised_SSIM'].to_numpy()[0]

data_testing_01 = data_testing[data_testing['Level'] == 0.01]
data_testing_01_PSNR_Baseline = data_testing_01[0:1]['Denoised_PSNR'].to_numpy()[0]
data_testing_01_SSIM_Baseline = data_testing_01[0:1]['Denoised_SSIM'].to_numpy()[0]
data_testing_01_PSNR = data_testing_01[1:-1]['Denoised_PSNR'].to_numpy()
data_testing_01_SSIM = data_testing_01[1:-1]['Denoised_SSIM'].to_numpy()
data_testing_01_PSNR_Target = data_testing_01[-1:]['Denoised_PSNR'].to_numpy()[0]
data_testing_01_SSIM_Target = data_testing_01[-1:]['Denoised_SSIM'].to_numpy()[0]


fig = go.Figure(data=go.Scatter(y=data_validation_01_PSNR, name="Validation"))

fig.add_hline(y=data_validation_01_PSNR_Baseline, line_dash="dash", line_color='red', annotation_text="Baseline", 
              annotation_position="bottom right", annotation_font_color="red")
fig.add_hline(y=data_validation_01_PSNR_Target, line_dash="dash", line_color='green', annotation_text="Target", 
              annotation_position="top right", annotation_font_color="green")
fig.update_yaxes(range = [20,34])

fig.update_layout(
    title='Gaussian 0.01 PSNR Validation',
    yaxis_title='PSNR',
    xaxis_title='log2 Crops',
    width=800,
    height=500,
)
fig.show()


fig = go.Figure(data=go.Scatter(y=data_testing_01_PSNR, name="Testing"))

fig.add_hline(y=data_testing_01_PSNR_Baseline, line_dash="dash", line_color='red', annotation_text="Baseline", 
              annotation_position="bottom right", annotation_font_color="red")
fig.add_hline(y=data_testing_01_PSNR_Target, line_dash="dash", line_color='green', annotation_text="Target", 
              annotation_position="top right", annotation_font_color="green")
fig.add_hline(y=.95 * data_testing_01_PSNR_Target, line_dash="dash", line_color='green', annotation_text="95% Target", 
              annotation_position="top right", annotation_font_color="green")
fig.update_yaxes(range = [20,34])

fig.update_layout(
    title='Gaussian 0.01 PSNR Testing',
    yaxis_title='PSNR',
    xaxis_title='log2 Crops',
    width=800,
    height=500,
)
fig.show()


fig = go.Figure(data=go.Scatter(y=data_validation_01_SSIM, name="Validation"))

fig.add_hline(y=data_validation_01_SSIM_Baseline, line_dash="dash", line_color='red', annotation_text="Baseline", 
              annotation_position="bottom right", annotation_font_color="red")
fig.add_hline(y=data_validation_01_SSIM_Target, line_dash="dash", line_color='green', annotation_text="Target", 
              annotation_position="top right", annotation_font_color="green")
fig.update_yaxes(range = [0.3,1])

fig.update_layout(
    title='Gaussian 0.01 SSIM Validation',
    yaxis_title='SSIM',
    xaxis_title='log2 Crops',
    width=800,
    height=500,
)
fig.show()


fig = go.Figure(data=go.Scatter(y=data_testing_01_SSIM, name="Testing"))

fig.add_hline(y=data_testing_01_SSIM_Baseline, line_dash="dash", line_color='red', annotation_text="Baseline", 
              annotation_position="bottom right", annotation_font_color="red")
fig.add_hline(y=data_testing_01_SSIM_Target, line_dash="dash", line_color='green', annotation_text="Target", 
              annotation_position="top right", annotation_font_color="green")
# fig.add_hline(y=.95 * data_testing_01_SSIM_Target, line_dash="dash", line_color='green', annotation_text="95% Target", 
#               annotation_position="top right", annotation_font_color="green")
fig.update_yaxes(range = [0.3,1])

fig.update_layout(
    title='Gaussian 0.01 SSIM Testing',
    yaxis_title='SSIM',
    xaxis_title='log2 Crops',
    width=800,
    height=500,
)
fig.show()


data_validation_05 = data_validation[data_validation['Level'] == 0.05]
data_validation_05_PSNR_Baseline = data_validation_05[0:1]['Denoised_PSNR'].to_numpy()[0]
data_validation_05_SSIM_Baseline = data_validation_05[0:1]['Denoised_SSIM'].to_numpy()[0]
data_validation_05_PSNR = data_validation_05[1:-1]['Denoised_PSNR'].to_numpy()
data_validation_05_SSIM = data_validation_05[1:-1]['Denoised_SSIM'].to_numpy()
data_validation_05_PSNR_Target = data_validation_05[-1:]['Denoised_PSNR'].to_numpy()[0]
data_validation_05_SSIM_Target = data_validation_05[-1:]['Denoised_SSIM'].to_numpy()[0]

data_testing_05 = data_testing[data_testing['Level'] == 0.05]
data_testing_05_PSNR_Baseline = data_testing_05[0:1]['Denoised_PSNR'].to_numpy()[0]
data_testing_05_SSIM_Baseline = data_testing_05[0:1]['Denoised_SSIM'].to_numpy()[0]
data_testing_05_PSNR = data_testing_05[1:-1]['Denoised_PSNR'].to_numpy()
data_testing_05_SSIM = data_testing_05[1:-1]['Denoised_SSIM'].to_numpy()
data_testing_05_PSNR_Target = data_testing_05[-1:]['Denoised_PSNR'].to_numpy()[0]
data_testing_05_SSIM_Target = data_testing_05[-1:]['Denoised_SSIM'].to_numpy()[0]


fig = go.Figure(data=go.Scatter(y=data_validation_05_PSNR, name="Validation"))

fig.add_hline(y=data_validation_05_PSNR_Baseline, line_dash="dash", line_color='red', annotation_text="Baseline", 
              annotation_position="bottom right", annotation_font_color="red")
fig.add_hline(y=data_validation_05_PSNR_Target, line_dash="dash", line_color='green', annotation_text="Target", 
              annotation_position="top right", annotation_font_color="green")
fig.update_yaxes(range = [12,30])

fig.update_layout(
    title='Gaussian 0.05 PSNR Validation',
    yaxis_title='PSNR',
    xaxis_title='log2 Crops',
    width=800,
    height=500,
)
fig.show()


fig = go.Figure(data=go.Scatter(y=data_testing_05_PSNR, name="Testing"))

fig.add_hline(y=data_testing_05_PSNR_Baseline, line_dash="dash", line_color='red', annotation_text="Baseline", 
              annotation_position="bottom right", annotation_font_color="red")
fig.add_hline(y=data_testing_05_PSNR_Target, line_dash="dash", line_color='green', annotation_text="Target", 
              annotation_position="top right", annotation_font_color="green")
fig.add_hline(y=.95 * data_testing_05_PSNR_Target, line_dash="dash", line_color='green', annotation_text="95% Target", 
              annotation_position="top right", annotation_font_color="green")
fig.update_yaxes(range = [12,30])

fig.update_layout(
    title='Gaussian 0.05 PSNR Testing',
    yaxis_title='PSNR',
    xaxis_title='log2 Crops',
    width=800,
    height=500,
)
fig.show()


fig = go.Figure(data=go.Scatter(y=data_validation_05_SSIM, name="Validation"))

fig.add_hline(y=data_validation_05_SSIM_Baseline, line_dash="dash", line_color='red', annotation_text="Baseline", 
              annotation_position="bottom right", annotation_font_color="red")
fig.add_hline(y=data_validation_05_SSIM_Target, line_dash="dash", line_color='green', annotation_text="Target", 
              annotation_position="top right", annotation_font_color="green")
fig.add_hline(y=.95 * data_validation_05_SSIM_Target, line_dash="dash", line_color='green', annotation_text="95% Target", 
              annotation_position="top right", annotation_font_color="green")
fig.update_yaxes(range = [0.1,0.9])

fig.update_layout(
    title='Gaussian 0.05 SSIM Validation',
    yaxis_title='SSIM',
    xaxis_title='log2 Crops',
    width=800,
    height=500,
)
fig.show()


fig = go.Figure(data=go.Scatter(y=data_testing_05_SSIM, name="Testing"))

fig.add_hline(y=data_testing_05_SSIM_Baseline, line_dash="dash", line_color='red', annotation_text="Baseline", 
              annotation_position="bottom right", annotation_font_color="red")
fig.add_hline(y=data_testing_05_SSIM_Target, line_dash="dash", line_color='green', annotation_text="Target", 
              annotation_position="top right", annotation_font_color="green")
fig.update_yaxes(range = [0.1,0.9])

fig.update_layout(
    title='Gaussian 0.05 SSIM Testing',
    yaxis_title='SSIM',
    xaxis_title='log2 Crops',
    width=800,
    height=500,
)
fig.show()


data_validation_10 = data_validation[data_validation['Level'] == 0.10]
data_validation_10_PSNR_Baseline = data_validation_10[0:1]['Denoised_PSNR'].to_numpy()[0]
data_validation_10_SSIM_Baseline = data_validation_10[0:1]['Denoised_SSIM'].to_numpy()[0]
data_validation_10_PSNR = data_validation_10[1:-1]['Denoised_PSNR'].to_numpy()
data_validation_10_SSIM = data_validation_10[1:-1]['Denoised_SSIM'].to_numpy()
data_validation_10_PSNR_Target = data_validation_10[-1:]['Denoised_PSNR'].to_numpy()[0]
data_validation_10_SSIM_Target = data_validation_10[-1:]['Denoised_SSIM'].to_numpy()[0]

data_testing_10 = data_testing[data_testing['Level'] == 0.10]
data_testing_10_PSNR_Baseline = data_testing_10[0:1]['Denoised_PSNR'].to_numpy()[0]
data_testing_10_SSIM_Baseline = data_testing_10[0:1]['Denoised_SSIM'].to_numpy()[0]
data_testing_10_PSNR = data_testing_10[1:-1]['Denoised_PSNR'].to_numpy()
data_testing_10_SSIM = data_testing_10[1:-1]['Denoised_SSIM'].to_numpy()
data_testing_10_PSNR_Target = data_testing_10[-1:]['Denoised_PSNR'].to_numpy()[0]
data_testing_10_SSIM_Target = data_testing_10[-1:]['Denoised_SSIM'].to_numpy()[0]


fig = go.Figure(data=go.Scatter(y=data_validation_10_PSNR, name="Validation"))

fig.add_hline(y=data_validation_10_PSNR_Baseline, line_dash="dash", line_color='red', annotation_text="Baseline", 
              annotation_position="bottom right", annotation_font_color="red")
fig.add_hline(y=data_validation_10_PSNR_Target, line_dash="dash", line_color='green', annotation_text="Target", 
              annotation_position="top right", annotation_font_color="green")
fig.update_yaxes(range = [10,30])

fig.update_layout(
    title='Gaussian 0.10 PSNR Validation',
    yaxis_title='PSNR',
    xaxis_title='log2 Crops',
    width=800,
    height=500,
)
fig.show()


fig = go.Figure(data=go.Scatter(y=data_testing_10_PSNR, name="Testing"))

fig.add_hline(y=data_testing_10_PSNR_Baseline, line_dash="dash", line_color='red', annotation_text="Baseline", 
              annotation_position="bottom right", annotation_font_color="red")
fig.add_hline(y=data_testing_10_PSNR_Target, line_dash="dash", line_color='green', annotation_text="Target", 
              annotation_position="top right", annotation_font_color="green")
fig.add_hline(y=.95 * data_testing_10_PSNR_Target, line_dash="dash", line_color='green', annotation_text="95% Target", 
              annotation_position="top right", annotation_font_color="green")
fig.update_yaxes(range = [10,30])

fig.update_layout(
    title='Gaussian 0.10 PSNR Testing',
    yaxis_title='PSNR',
    xaxis_title='log2 Crops',
    width=800,
    height=500,
)
fig.show()


fig = go.Figure(data=go.Scatter(y=data_validation_10_SSIM, name="Validation"))

fig.add_hline(y=data_validation_10_SSIM_Baseline, line_dash="dash", line_color='red', annotation_text="Baseline", 
              annotation_position="bottom right", annotation_font_color="red")
fig.add_hline(y=data_validation_10_SSIM_Target, line_dash="dash", line_color='green', annotation_text="Target", 
              annotation_position="top right", annotation_font_color="green")
fig.add_hline(y=.95 * data_validation_10_SSIM_Target, line_dash="dash", line_color='green', annotation_text="95% Target", 
              annotation_position="top right", annotation_font_color="green")
fig.update_yaxes(range = [0,.9])

fig.update_layout(
    title='Gaussian 0.10 SSIM Validation',
    yaxis_title='SSIM',
    xaxis_title='log2 Crops',
    width=800,
    height=500,
)
fig.show()


fig = go.Figure(data=go.Scatter(y=data_testing_10_SSIM, name="Testing"))

fig.add_hline(y=data_testing_10_SSIM_Baseline, line_dash="dash", line_color='red', annotation_text="Baseline", 
              annotation_position="bottom right", annotation_font_color="red")
fig.add_hline(y=data_testing_10_SSIM_Target, line_dash="dash", line_color='green', annotation_text="Target", 
              annotation_position="top right", annotation_font_color="green")
fig.update_yaxes(range = [0,.9])

fig.update_layout(
    title='Gaussian 0.10 SSIM Testing',
    yaxis_title='SSIM',
    xaxis_title='log2 Crops',
    width=800,
    height=500,
)
fig.show()





fig = go.Figure(data=go.Scatter(y=data_validation_01_PSNR, name="0.01"))
fig.add_trace(go.Scatter(y=data_validation_05_PSNR, name="0.05"))
fig.add_trace(go.Scatter(y=data_validation_10_PSNR, name="0.10"))
fig.update_yaxes(range = [20,34])

fig.update_layout(
    title='Validation Gaussian PSNR',
    yaxis_title='PSNR',
    xaxis_title='log2 Crops',
    width=800,
    height=500,
)
fig.show()


fig = go.Figure(data=go.Scatter(y=data_testing_01_PSNR, name="0.01"))
fig.add_trace(go.Scatter(y=data_testing_05_PSNR, name="0.05"))
fig.add_trace(go.Scatter(y=data_testing_10_PSNR, name="0.10"))
fig.update_yaxes(range = [20,34])

fig.update_layout(
    title='Testing Gaussian PSNR',
    yaxis_title='PSNR',
    xaxis_title='log2 Crops',
    width=800,
    height=500,
)
fig.show()


fig = go.Figure(data=go.Scatter(y=data_validation_01_SSIM, name="0.01"))
fig.add_trace(go.Scatter(y=data_validation_05_SSIM, name="0.05"))
fig.add_trace(go.Scatter(y=data_validation_10_SSIM, name="0.10"))
fig.update_yaxes(range = [0.4,1])

fig.update_layout(
    title='Validation Gaussian SSIM',
    yaxis_title='SSIM',
    xaxis_title='log2 Crops',
    width=800,
    height=500,
)
fig.show()


fig = go.Figure(data=go.Scatter(y=data_testing_01_SSIM, name="0.01"))
fig.add_trace(go.Scatter(y=data_testing_05_SSIM, name="0.05"))
fig.add_trace(go.Scatter(y=data_testing_10_SSIM, name="0.10"))
fig.update_yaxes(range = [0.4,1])

fig.update_layout(
    title='Testing Gaussian SSIM',
    yaxis_title='SSIM',
    xaxis_title='log2 Crops',
    width=800,
    height=500,
)
fig.show()


data_time = pd.read_csv('data/DHDN_GSN_TIME_DISTRIBUTION_DIV2K.csv')
data_time


data_time_01 = data_time[data_time['Noise_Parameter'] == 0.01][1:]
data_time_01


fig = px.scatter(data_time_01, x="Total_Time", y="SSIM", text="Crops", log_x=True, size_max=60)
fig.update_traces(textposition='top center')

fig.update_layout(
    height=600,
    title_text='Gaussian 0.01 Models SSIM vs Time',
    xaxis_title="Log Time (Seconds)"
)

fig.show()


fig = px.scatter(data_time_01, x="Total_Time", y="PSNR", text="Crops", log_x=True, size_max=60)
fig.update_traces(textposition='top center')

fig.update_layout(
    height=600,
    title_text='Gaussian 0.01 Models PSNR vs Time',
    xaxis_title="Log Time (Seconds)"
)

fig.show()


data_time_05 = data_time[data_time['Noise_Parameter'] == 0.05][1:]
data_time_05


fig = px.scatter(data_time_05, x="Total_Time", y="SSIM", text="Crops", log_x=True, size_max=60)
fig.update_traces(textposition='top center')

fig.update_layout(
    height=600,
    title_text='Gaussian 0.05 Models SSIM vs Time',
    xaxis_title="Log Time (Seconds)"
)

fig.show()


fig = px.scatter(data_time_05, x="Total_Time", y="PSNR", text="Crops", log_x=True, size_max=60)
fig.update_traces(textposition='top center')

fig.update_layout(
    height=600,
    title_text='Gaussian 0.05 Models SSIM vs Time',
    xaxis_title="Log Time (Seconds)"
)

fig.show()


data_time_10 = data_time[data_time['Noise_Parameter'] == 0.10][1:]
data_time_10


fig = px.scatter(data_time_10, x="Total_Time", y="SSIM", text="Crops", log_x=True, size_max=60)
fig.update_traces(textposition='top center')

fig.update_layout(
    height=600,
    title_text='Gaussian 0.10 Models SSIM vs Time',
    xaxis_title="Log Time (Seconds)"
)

fig.show()


fig = px.scatter(data_time_10, x="Total_Time", y="PSNR", text="Crops", log_x=True, size_max=60)
fig.update_traces(textposition='top center')

fig.update_layout(
    height=600,
    title_text='Gaussian 0.10 Models SSIM vs Time',
    xaxis_title="Log Time (Seconds)"
)

fig.show()



