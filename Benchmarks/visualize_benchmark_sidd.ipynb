{
 "cells": [
  {
   "cell_type": "code",
   "execution_count": null,
   "metadata": {},
   "outputs": [],
   "source": [
    "import os\n",
    "from scipy.io import loadmat\n",
    "from plotly.subplots import make_subplots\n",
    "import plotly.graph_objects as go"
   ]
  },
  {
   "cell_type": "code",
   "execution_count": null,
   "metadata": {},
   "outputs": [],
   "source": [
    "# Load benchmark data for processing\n",
    "mat_file = os.getcwd() + '/data/BenchmarkNoisyBlocksSrgb.mat'\n",
    "denoised = 'benchmark/single/dhdn__SIDD__064_0016/SubmitSrgb.mat'\n",
    "mat_file_denoised = os.getcwd() + '/results/single-model/' + denoised\n",
    "mat = loadmat(mat_file)\n",
    "mat_denoised = loadmat(mat_file_denoised)"
   ]
  },
  {
   "cell_type": "code",
   "execution_count": null,
   "metadata": {},
   "outputs": [],
   "source": [
    "mat['BenchmarkNoisyBlocksSrgb'].shape"
   ]
  },
  {
   "cell_type": "code",
   "execution_count": null,
   "metadata": {},
   "outputs": [],
   "source": [
    "index0 = 10\n",
    "\n",
    "image_mat = mat['BenchmarkNoisyBlocksSrgb'][index0, :, :, :, :]\n",
    "image_mat_denoised = mat_denoised['BenchmarkNoisyBlocksSrgb'][index0, :, :, :, :]"
   ]
  },
  {
   "cell_type": "code",
   "execution_count": null,
   "metadata": {},
   "outputs": [],
   "source": [
    "fig = make_subplots(4, 4)\n",
    "\n",
    "for i in range(4):\n",
    "    for j in range(4):\n",
    "        fig.add_trace(go.Image(z=image_mat[i * 4 + j]), j + 1, i + 1)\n",
    "fig.update_layout(autosize=False, height=800, width=800, title_text=\"Benchmark Samples {i}\".format(i=index0),\n",
    "                 showlegend=False)\n",
    "fig.update_xaxes(visible=False)\n",
    "fig.update_yaxes(visible=False)\n",
    "fig.show()"
   ]
  },
  {
   "cell_type": "code",
   "execution_count": null,
   "metadata": {},
   "outputs": [],
   "source": [
    "fig = make_subplots(4, 4)\n",
    "\n",
    "for i in range(4):\n",
    "    for j in range(4):\n",
    "        fig.add_trace(go.Image(z=image_mat_denoised[i * 4 + j]), j + 1, i + 1)\n",
    "fig.update_layout(autosize=False, height=800, width=800, title_text=\"Benchmark Denoised {i}\".format(i=index0),\n",
    "                 showlegend=False)\n",
    "fig.update_xaxes(visible=False)\n",
    "fig.update_yaxes(visible=False)\n",
    "fig.show()"
   ]
  },
  {
   "cell_type": "code",
   "execution_count": null,
   "metadata": {},
   "outputs": [],
   "source": []
  }
 ],
 "metadata": {
  "kernelspec": {
   "display_name": "Python 3 (ipykernel)",
   "language": "python",
   "name": "python3"
  },
  "language_info": {
   "codemirror_mode": {
    "name": "ipython",
    "version": 3
   },
   "file_extension": ".py",
   "mimetype": "text/x-python",
   "name": "python",
   "nbconvert_exporter": "python",
   "pygments_lexer": "ipython3",
   "version": "3.9.18"
  }
 },
 "nbformat": 4,
 "nbformat_minor": 4
}
