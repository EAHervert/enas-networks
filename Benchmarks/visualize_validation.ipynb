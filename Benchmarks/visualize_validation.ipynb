{
 "cells": [
  {
   "cell_type": "markdown",
   "metadata": {},
   "source": [
    "# Validation Metrics"
   ]
  },
  {
   "cell_type": "code",
   "execution_count": null,
   "metadata": {},
   "outputs": [],
   "source": [
    "import os\n",
    "from scipy.io import loadmat\n",
    "from plotly.subplots import make_subplots\n",
    "import plotly.graph_objects as go\n",
    "import torch\n",
    "\n",
    "from utilities.functions import SSIM, PSNR"
   ]
  },
  {
   "cell_type": "code",
   "execution_count": null,
   "metadata": {},
   "outputs": [],
   "source": [
    "# Load validation data for processing\n",
    "mat_gt_file = os.getcwd() + '/data/gsn_10/ValidationGtBlocks.mat'\n",
    "mat_noisy_file = os.getcwd() + '/data/gsn_10/ValidationNoisyBlocks.mat'\n",
    "mat_gt = loadmat(mat_gt_file)\n",
    "mat_noisy = loadmat(mat_noisy_file)\n",
    "\n",
    "size = mat_gt['val_gt'].shape\n",
    "print(size)"
   ]
  },
  {
   "cell_type": "code",
   "execution_count": null,
   "metadata": {},
   "outputs": [],
   "source": [
    "index0 = 1//2\n",
    "\n",
    "image_mat_gt = mat_gt['val_gt'][index0, :, :, :, :].astype(float)\n",
    "image_mat_noisy = mat_noisy['val_ng'][index0, :, :, :, :].astype(float)"
   ]
  },
  {
   "cell_type": "code",
   "execution_count": null,
   "metadata": {},
   "outputs": [],
   "source": [
    "fig = make_subplots(3, 3)\n",
    "\n",
    "for i in range(3):\n",
    "    for j in range(3):\n",
    "        fig.add_trace(go.Image(z=image_mat_gt[i * 3 + j]), i + 1, j + 1)\n",
    "fig.update_layout(autosize=False, height=800, width=800, \n",
    "                  title_text=\"Validation GT Samples {i}\".format(i=index0),\n",
    "                 showlegend=False)\n",
    "fig.update_xaxes(visible=False)\n",
    "fig.update_yaxes(visible=False)\n",
    "fig.show()"
   ]
  },
  {
   "cell_type": "code",
   "execution_count": null,
   "metadata": {},
   "outputs": [],
   "source": [
    "fig = make_subplots(3, 3)\n",
    "\n",
    "for i in range(3):\n",
    "    for j in range(3):\n",
    "        fig.add_trace(go.Image(z=image_mat_noisy[i * 3 + j]), i + 1, j + 1)\n",
    "fig.update_layout(autosize=False, height=800, width=800, \n",
    "                  title_text=\"Validation Noisy Samples {i}\".format(i=index0),\n",
    "                 showlegend=False)\n",
    "fig.update_xaxes(visible=False)\n",
    "fig.update_yaxes(visible=False)\n",
    "fig.show()"
   ]
  },
  {
   "cell_type": "code",
   "execution_count": null,
   "metadata": {},
   "outputs": [],
   "source": [
    "total_ssim = 0\n",
    "total_psnr = 0\n",
    "\n",
    "for i in range(size[0]):\n",
    "    image_mat_gt = torch.tensor(mat_gt['val_gt'][i, :, :, :, :] / 255., \n",
    "                                dtype=torch.float).permute(0, 3, 1, 2)\n",
    "    image_mat_noisy = torch.tensor(mat_noisy['val_ng'][i, :, :, :, :] / 255., \n",
    "                                   dtype=torch.float).permute(0, 3, 1, 2)\n",
    "    ssim = SSIM(image_mat_gt, image_mat_noisy)\n",
    "    mse = torch.square(image_mat_gt - image_mat_noisy).mean()\n",
    "    psnr = PSNR(mse)\n",
    "    print('Noisy', i, ':', ssim.item(), '-', psnr.item())\n",
    "\n",
    "    total_ssim += ssim.item()\n",
    "    total_psnr += psnr.item()\n",
    "\n",
    "total_ssim /= size[0]\n",
    "total_psnr /= size[0]\n",
    "\n",
    "print('Total Raw', '-', total_ssim, '-', total_psnr)"
   ]
  },
  {
   "cell_type": "code",
   "execution_count": null,
   "metadata": {},
   "outputs": [],
   "source": []
  }
 ],
 "metadata": {
  "kernelspec": {
   "display_name": "Python 3 (ipykernel)",
   "language": "python",
   "name": "python3"
  },
  "language_info": {
   "codemirror_mode": {
    "name": "ipython",
    "version": 3
   },
   "file_extension": ".py",
   "mimetype": "text/x-python",
   "name": "python",
   "nbconvert_exporter": "python",
   "pygments_lexer": "ipython3",
   "version": "3.9.18"
  }
 },
 "nbformat": 4,
 "nbformat_minor": 4
}
